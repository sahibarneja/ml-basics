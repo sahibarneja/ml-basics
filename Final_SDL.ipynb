{
  "nbformat": 4,
  "nbformat_minor": 0,
  "metadata": {
    "colab": {
      "name": "Copy of Final_SDL.ipynb",
      "provenance": [],
      "collapsed_sections": [
        "bDiFTOD_fUer",
        "J9v906ZSfafd",
        "sJ02c3tdriz_",
        "5lme1ZpdU1p6",
        "mhlqwr3olnYd",
        "fvDvkrQgvn2t"
      ],
      "mount_file_id": "19xpzIPApbcNDFV7rCtKQcsflvXkZXCIC",
      "authorship_tag": "ABX9TyNj7VXIlHkdcatSzM3idmUp",
      "include_colab_link": true
    },
    "kernelspec": {
      "name": "python3",
      "display_name": "Python 3"
    }
  },
  "cells": [
    {
      "cell_type": "markdown",
      "metadata": {
        "id": "view-in-github",
        "colab_type": "text"
      },
      "source": [
        "<a href=\"https://colab.research.google.com/github/sahibarneja/ml-basics/blob/master/Final_SDL.ipynb\" target=\"_parent\"><img src=\"https://colab.research.google.com/assets/colab-badge.svg\" alt=\"Open In Colab\"/></a>"
      ]
    },
    {
      "cell_type": "code",
      "metadata": {
        "colab": {
          "base_uri": "https://localhost:8080/"
        },
        "id": "M7qRHMI8au2I",
        "outputId": "3070271c-79a4-48e7-f3ea-8eb40e536e9b"
      },
      "source": [
        "from google.colab import drive\n",
        "print(\"Import successful\")"
      ],
      "execution_count": null,
      "outputs": [
        {
          "output_type": "stream",
          "text": [
            "Import successful\n"
          ],
          "name": "stdout"
        }
      ]
    },
    {
      "cell_type": "markdown",
      "metadata": {
        "id": "bDiFTOD_fUer"
      },
      "source": [
        "## Importing Packages"
      ]
    },
    {
      "cell_type": "code",
      "metadata": {
        "id": "219A2sbkbkNe"
      },
      "source": [
        "import pandas as pd\r\n",
        "import numpy as np\r\n",
        "from sklearn import metrics\r\n",
        "%matplotlib inline\r\n",
        "import matplotlib.pyplot as plt\r\n",
        "from sklearn.model_selection import train_test_split\r\n",
        "from sklearn.metrics import confusion_matrix, accuracy_score\r\n",
        "from sklearn.linear_model import LinearRegression"
      ],
      "execution_count": 1,
      "outputs": []
    },
    {
      "cell_type": "markdown",
      "metadata": {
        "id": "J9v906ZSfafd"
      },
      "source": [
        "## Reading CSV files\r\n"
      ]
    },
    {
      "cell_type": "code",
      "metadata": {
        "id": "7OHq28r_bmeh"
      },
      "source": [
        "dataset1=pd.read_csv('/content/drive/MyDrive/sdl_project/Bitcoin Cash.csv')\r\n",
        "dataset2=pd.read_csv('/content/drive/MyDrive/sdl_project/Bitcoin SV US Dollar.csv')\r\n",
        "dataset3=pd.read_csv('/content/drive/MyDrive/sdl_project/Ethereum.csv')\r\n",
        "dataset4=pd.read_csv('/content/drive/MyDrive/sdl_project/Litecoin.csv')"
      ],
      "execution_count": null,
      "outputs": []
    },
    {
      "cell_type": "markdown",
      "metadata": {
        "id": "sJ02c3tdriz_"
      },
      "source": [
        "# Bitcoin Cash"
      ]
    },
    {
      "cell_type": "code",
      "metadata": {
        "id": "XSCmengmg0jK"
      },
      "source": [
        "dataset1['DATE'] = pd.to_datetime(dataset1.DATE)"
      ],
      "execution_count": null,
      "outputs": []
    },
    {
      "cell_type": "code",
      "metadata": {
        "id": "iVWahwP0oLvd"
      },
      "source": [
        "X1  = dataset1[['OPEN','HIGH','LOW','VOLUMES(M)']]\r\n",
        "y1 = dataset1['PRICE']"
      ],
      "execution_count": null,
      "outputs": []
    },
    {
      "cell_type": "code",
      "metadata": {
        "id": "dEgKpKnNvzti",
        "colab": {
          "base_uri": "https://localhost:8080/"
        },
        "outputId": "f9f9353b-5157-43d6-fe6c-72274006f1c1"
      },
      "source": [
        "X1_train , X1_test , y1_train , y1_test = train_test_split(X1,y1,random_state = 0)\r\n",
        "regressor1 = LinearRegression()\r\n",
        "regressor1.fit(X1_train,y1_train)"
      ],
      "execution_count": null,
      "outputs": [
        {
          "output_type": "execute_result",
          "data": {
            "text/plain": [
              "LinearRegression(copy_X=True, fit_intercept=True, n_jobs=None, normalize=False)"
            ]
          },
          "metadata": {
            "tags": []
          },
          "execution_count": 305
        }
      ]
    },
    {
      "cell_type": "code",
      "metadata": {
        "colab": {
          "base_uri": "https://localhost:8080/"
        },
        "id": "e4ZsgtqCwO09",
        "outputId": "fc6ef1f3-2309-43e8-f02f-a8eed20ea829"
      },
      "source": [
        "print(regressor1.coef_)\r\n",
        "print(regressor1.intercept_)"
      ],
      "execution_count": null,
      "outputs": [
        {
          "output_type": "stream",
          "text": [
            "[-4.92977617e-01  6.96815141e-01  8.05870457e-01  5.46871076e-04]\n",
            "-1.0579741044066964\n"
          ],
          "name": "stdout"
        }
      ]
    },
    {
      "cell_type": "code",
      "metadata": {
        "id": "EFy7-J3DwYKy"
      },
      "source": [
        "predicted_btc=regressor1.predict(X1_test)"
      ],
      "execution_count": null,
      "outputs": []
    },
    {
      "cell_type": "code",
      "metadata": {
        "id": "maW88qm3wkaV"
      },
      "source": [
        "dframe=pd.DataFrame(y1_test,predicted_btc)"
      ],
      "execution_count": null,
      "outputs": []
    },
    {
      "cell_type": "code",
      "metadata": {
        "id": "ylwOwhrgwoWR"
      },
      "source": [
        "dfr=pd.DataFrame({'Actual':y1_test,'Predicted':predicted_btc})"
      ],
      "execution_count": null,
      "outputs": []
    },
    {
      "cell_type": "code",
      "metadata": {
        "colab": {
          "base_uri": "https://localhost:8080/"
        },
        "id": "ALz_ZNGpxTDs",
        "outputId": "0f2a96b0-22bc-427b-d7a5-c504330e5c93"
      },
      "source": [
        "regressor1.score(X1_test,y1_test)\r\n",
        "print('Root Mean Squared Error:',math.sqrt(metrics.mean_squared_error(y_test,predicted)))"
      ],
      "execution_count": null,
      "outputs": [
        {
          "output_type": "execute_result",
          "data": {
            "text/plain": [
              "0.9923431675954036"
            ]
          },
          "metadata": {
            "tags": []
          },
          "execution_count": 295
        }
      ]
    },
    {
      "cell_type": "code",
      "metadata": {
        "id": "XFLQM00rx57B"
      },
      "source": [
        "graph=dfr.head(20)"
      ],
      "execution_count": null,
      "outputs": []
    },
    {
      "cell_type": "code",
      "metadata": {
        "colab": {
          "base_uri": "https://localhost:8080/"
        },
        "id": "0aaJgmaTUBIA",
        "outputId": "27a1d6fd-f000-41a0-bac2-cee07ada13a6"
      },
      "source": [
        "plt1=[];\r\n",
        "print(\"Enter open value for the stock prediction\")\r\n",
        "plt1.append(float(input()))\r\n",
        "print(\"Enter High value for the stock prediction\")\r\n",
        "plt1.append(float(input()))\r\n",
        "print(\"Enter Low value for the stock prediction\")\r\n",
        "plt1.append(float(input()))\r\n",
        "print(\"Enter Volumes value for the stock prediction\")\r\n",
        "plt1.append(float(input()))\r\n",
        "print(plt)"
      ],
      "execution_count": null,
      "outputs": [
        {
          "output_type": "stream",
          "text": [
            "Enter open value for the stock prediction\n",
            "312.18\n",
            "Enter High value for the stock prediction\n",
            "289.35\n",
            "Enter Low value for the stock prediction\n",
            "312.49\n",
            "Enter Volumes value for the stock prediction\n",
            "0.89\n",
            "[]\n"
          ],
          "name": "stdout"
        }
      ]
    },
    {
      "cell_type": "code",
      "metadata": {
        "colab": {
          "base_uri": "https://localhost:8080/"
        },
        "id": "l0EcafNsXNxK",
        "outputId": "d535825c-ac79-405d-974b-a78610a00ec6"
      },
      "source": [
        "features_btc=np.array([plt1])\r\n",
        "print(features)\r\n",
        "target_btc=regressor1.predict(features_btc)\r\n",
        "print(\"Predicted price\",target_btc)"
      ],
      "execution_count": null,
      "outputs": [
        {
          "output_type": "stream",
          "text": [
            "[[250.      252.47    241.41      0.58693]]\n"
          ],
          "name": "stdout"
        }
      ]
    },
    {
      "cell_type": "markdown",
      "metadata": {
        "id": "5lme1ZpdU1p6"
      },
      "source": [
        "#Bitcoin SV"
      ]
    },
    {
      "cell_type": "code",
      "metadata": {
        "id": "TOfkwcsh1hWI"
      },
      "source": [
        "dataset2['DATE'] = pd.to_datetime(dataset2.DATE)"
      ],
      "execution_count": null,
      "outputs": []
    },
    {
      "cell_type": "code",
      "metadata": {
        "id": "wsZlTFiwVkEf"
      },
      "source": [
        "X2  = dataset2[['OPEN','HIGH','LOW','VOLUME(K)']]\r\n",
        "y2= dataset2['PRICE']"
      ],
      "execution_count": null,
      "outputs": []
    },
    {
      "cell_type": "code",
      "metadata": {
        "id": "SM5wb7ylXmxL"
      },
      "source": [
        "X2_train , X2_test , y2_train , y2_test = train_test_split(X2,y2,random_state = 0)"
      ],
      "execution_count": null,
      "outputs": []
    },
    {
      "cell_type": "code",
      "metadata": {
        "colab": {
          "base_uri": "https://localhost:8080/"
        },
        "id": "QhJ6KJfLaDfn",
        "outputId": "7af47bfc-4e52-47a5-ec51-98bc4fb12c34"
      },
      "source": [
        "regressor2 = LinearRegression()\r\n",
        "regressor2.fit(X_train,y_train)"
      ],
      "execution_count": null,
      "outputs": [
        {
          "output_type": "execute_result",
          "data": {
            "text/plain": [
              "LinearRegression(copy_X=True, fit_intercept=True, n_jobs=None, normalize=False)"
            ]
          },
          "metadata": {
            "tags": []
          },
          "execution_count": 250
        }
      ]
    },
    {
      "cell_type": "code",
      "metadata": {
        "colab": {
          "base_uri": "https://localhost:8080/"
        },
        "id": "t5jJ6TKtaTu2",
        "outputId": "d3b0885c-d584-47e0-8a0f-b6c30b5b4687"
      },
      "source": [
        "print(regressor2.coef_)\r\n",
        "print(regressor2.intercept_)"
      ],
      "execution_count": null,
      "outputs": [
        {
          "output_type": "stream",
          "text": [
            "[-4.92977617e-01  6.96815141e-01  8.05870457e-01  5.46871076e-04]\n",
            "-1.0579741044066964\n"
          ],
          "name": "stdout"
        }
      ]
    },
    {
      "cell_type": "code",
      "metadata": {
        "id": "3MaILggXaiOj"
      },
      "source": [
        "predicted_bsv=regressor2.predict(X2_test)"
      ],
      "execution_count": null,
      "outputs": []
    },
    {
      "cell_type": "code",
      "metadata": {
        "id": "jnutb3D9a0CH"
      },
      "source": [
        "dframe2=pd.DataFrame(y2_test,predicted_bsv)\r\n",
        "dfr2=pd.DataFrame({'Actual':y2_test,'Predicted':predicted_bsv})"
      ],
      "execution_count": null,
      "outputs": []
    },
    {
      "cell_type": "code",
      "metadata": {
        "colab": {
          "base_uri": "https://localhost:8080/"
        },
        "id": "YYy7PR4JbaHv",
        "outputId": "0d39a67a-91bf-4464-c09b-d3161ccf6135"
      },
      "source": [
        "print(regressor2.score(X2_test,y2_test))\r\n",
        "print('Root Mean Squared Error:',math.sqrt(metrics.mean_squared_error(y2_test,predicted_bsv)))"
      ],
      "execution_count": null,
      "outputs": [
        {
          "output_type": "stream",
          "text": [
            "0.9942214703988519\n",
            "Root Mean Squared Error: 4.946932492776832\n"
          ],
          "name": "stdout"
        }
      ]
    },
    {
      "cell_type": "code",
      "metadata": {
        "id": "55BbEwkxbpuI"
      },
      "source": [
        "graph=dfr2.head(20)\r\n"
      ],
      "execution_count": null,
      "outputs": []
    },
    {
      "cell_type": "code",
      "metadata": {
        "colab": {
          "base_uri": "https://localhost:8080/"
        },
        "id": "gWpaD4_5cBaH",
        "outputId": "06ef578c-e49f-4353-dea2-ff805b7557f9"
      },
      "source": [
        "plt2=[];\r\n",
        "print(\"Enter open value for the stock prediction\")\r\n",
        "plt2.append(float(input()))\r\n",
        "print(\"Enter High value for the stock prediction\")\r\n",
        "plt2.append(float(input()))\r\n",
        "print(\"Enter Low value for the stock prediction\")\r\n",
        "plt2.append(float(input()))\r\n",
        "print(\"Enter Volumes value for the stock prediction\")\r\n",
        "plt2.append(float(input()))\r\n",
        "print(plt2)"
      ],
      "execution_count": null,
      "outputs": [
        {
          "output_type": "stream",
          "text": [
            "Enter open value for the stock prediction\n",
            "637.29\n",
            "Enter High value for the stock prediction\n",
            "668.87\n",
            "Enter Low value for the stock prediction\n",
            "635.64\n",
            "Enter Volumes value for the stock prediction\n",
            "3.90\n",
            "[637.29, 668.87, 635.64, 3.9]\n"
          ],
          "name": "stdout"
        }
      ]
    },
    {
      "cell_type": "code",
      "metadata": {
        "colab": {
          "base_uri": "https://localhost:8080/"
        },
        "id": "qKsskdFScOxE",
        "outputId": "f5e633b3-b8a4-4362-d23c-193ed3e344fd"
      },
      "source": [
        "features_bsv=np.array([plt2])\r\n",
        "print(features_bsv)\r\n",
        "target_bsv=regressor.predict(features_bsv)\r\n",
        "print(\"Predicted price\",target_bsv)"
      ],
      "execution_count": null,
      "outputs": [
        {
          "output_type": "stream",
          "text": [
            "[[637.29 668.87 635.64   3.9 ]]\n",
            "Predicted price [663.09669439]\n"
          ],
          "name": "stdout"
        }
      ]
    },
    {
      "cell_type": "markdown",
      "metadata": {
        "id": "mhlqwr3olnYd"
      },
      "source": [
        "# Ethereum"
      ]
    },
    {
      "cell_type": "code",
      "metadata": {
        "id": "3_7B2t4Eh_Rm"
      },
      "source": [
        "dataset3['DATE'] = pd.to_datetime(dataset3.DATE)"
      ],
      "execution_count": null,
      "outputs": []
    },
    {
      "cell_type": "code",
      "metadata": {
        "id": "3EOshvTCh_bX"
      },
      "source": [
        "X3=dataset3[['OPEN','HIGH','LOW','VOLUME(M)']]\r\n",
        "y3 =dataset3['PRICE']"
      ],
      "execution_count": null,
      "outputs": []
    },
    {
      "cell_type": "code",
      "metadata": {
        "id": "NGVE4VTnh_hr"
      },
      "source": [
        "X3_train , X3_test , y3_train , y3_test = train_test_split(X3,y3,random_state = 0)"
      ],
      "execution_count": null,
      "outputs": []
    },
    {
      "cell_type": "code",
      "metadata": {
        "colab": {
          "base_uri": "https://localhost:8080/"
        },
        "id": "FMuM74thh_mi",
        "outputId": "bf4a1f66-715c-40c1-cc24-3f71e2f37a92"
      },
      "source": [
        "regressor3 = LinearRegression()\r\n",
        "regressor3.fit(X_train,y_train)"
      ],
      "execution_count": null,
      "outputs": [
        {
          "output_type": "execute_result",
          "data": {
            "text/plain": [
              "LinearRegression(copy_X=True, fit_intercept=True, n_jobs=None, normalize=False)"
            ]
          },
          "metadata": {
            "tags": []
          },
          "execution_count": 317
        }
      ]
    },
    {
      "cell_type": "code",
      "metadata": {
        "colab": {
          "base_uri": "https://localhost:8080/"
        },
        "id": "zRcM5aavh_rF",
        "outputId": "8fdc2765-0c36-42e4-a017-81d0c2df337f"
      },
      "source": [
        "print(regressor3.coef_)\r\n",
        "print(regressor3.intercept_)"
      ],
      "execution_count": null,
      "outputs": [
        {
          "output_type": "stream",
          "text": [
            "[-4.92977617e-01  6.96815141e-01  8.05870457e-01  5.46871076e-04]\n",
            "-1.0579741044066964\n"
          ],
          "name": "stdout"
        }
      ]
    },
    {
      "cell_type": "code",
      "metadata": {
        "id": "Lq8H4utKh_vY"
      },
      "source": [
        "predicted_eth=regressor3.predict(X3_test)"
      ],
      "execution_count": null,
      "outputs": []
    },
    {
      "cell_type": "code",
      "metadata": {
        "id": "EZlyd8sHh_0L"
      },
      "source": [
        "dframe3=pd.DataFrame(y3_test,predicted_eth)\r\n",
        "dfr3=pd.DataFrame({'Actual':y3_test,'Predicted':predicted_eth})"
      ],
      "execution_count": null,
      "outputs": []
    },
    {
      "cell_type": "code",
      "metadata": {
        "colab": {
          "base_uri": "https://localhost:8080/"
        },
        "id": "lVj_RACfh_7v",
        "outputId": "5dc456d8-ab1c-44d1-bf39-f0c68b6bdf0d"
      },
      "source": [
        "print(regressor3.score(X3_test,y3_test))\r\n",
        "print('Root Mean Squared Error:',math.sqrt(metrics.mean_squared_error(y3_test,predicted_eth)))"
      ],
      "execution_count": null,
      "outputs": [
        {
          "output_type": "stream",
          "text": [
            "0.993213531283302\n",
            "Root Mean Squared Error: 6.934725173611677\n"
          ],
          "name": "stdout"
        }
      ]
    },
    {
      "cell_type": "code",
      "metadata": {
        "id": "g4-gwihbiACY"
      },
      "source": [
        "graph=dfr3.head(20)\r\n"
      ],
      "execution_count": null,
      "outputs": []
    },
    {
      "cell_type": "code",
      "metadata": {
        "colab": {
          "base_uri": "https://localhost:8080/"
        },
        "id": "NqIZL9cmiAJO",
        "outputId": "a6affabe-fb4c-410a-9607-448a1afa12ef"
      },
      "source": [
        "plt3=[];\r\n",
        "print(\"Enter open value for the stock prediction\")\r\n",
        "plt3.append(float(input()))\r\n",
        "print(\"Enter High value for the stock prediction\")\r\n",
        "plt3.append(float(input()))\r\n",
        "print(\"Enter Low value for the stock prediction\")\r\n",
        "plt3.append(float(input()))\r\n",
        "print(\"Enter Volumes value for the stock prediction\")\r\n",
        "plt3.append(float(input()))\r\n",
        "print(plt3)"
      ],
      "execution_count": null,
      "outputs": [
        {
          "output_type": "stream",
          "text": [
            "Enter open value for the stock prediction\n",
            "393.93\n",
            "Enter High value for the stock prediction\n",
            "402.75\n",
            "Enter Low value for the stock prediction\n",
            "390.92\n",
            "Enter Volumes value for the stock prediction\n",
            "10.15\n",
            "[393.93, 402.75, 390.92, 10.15]\n"
          ],
          "name": "stdout"
        }
      ]
    },
    {
      "cell_type": "code",
      "metadata": {
        "colab": {
          "base_uri": "https://localhost:8080/"
        },
        "id": "WwdflRy2iAPi",
        "outputId": "05e9b102-8aca-4860-a1d4-8382460e0391"
      },
      "source": [
        "features_eth=np.array([plt3])\r\n",
        "print(features_eth)\r\n",
        "target_eth=regressor.predict(features_eth)\r\n",
        "print(\"Predicted price\",target_eth)"
      ],
      "execution_count": null,
      "outputs": [
        {
          "output_type": "stream",
          "text": [
            "[[393.93 402.75 390.92  10.15]]\n",
            "Predicted price [400.42208142]\n"
          ],
          "name": "stdout"
        }
      ]
    },
    {
      "cell_type": "markdown",
      "metadata": {
        "id": "fvDvkrQgvn2t"
      },
      "source": [
        "# LITECOIN"
      ]
    },
    {
      "cell_type": "code",
      "metadata": {
        "id": "wwKuyy3ZiAS7"
      },
      "source": [
        "dataset4['DATE'] = pd.to_datetime(dataset4.DATE)"
      ],
      "execution_count": null,
      "outputs": []
    },
    {
      "cell_type": "code",
      "metadata": {
        "id": "YvdSOexqiAW0"
      },
      "source": [
        "X4=dataset4[['OPEN','HIGH','LOW','VOLUME(M)']]\r\n",
        "y4=dataset4['PRICE']"
      ],
      "execution_count": null,
      "outputs": []
    },
    {
      "cell_type": "code",
      "metadata": {
        "id": "t7pmmTM-iAbJ"
      },
      "source": [
        "X4_train , X4_test , y4_train , y4_test = train_test_split(X4,y4,random_state = 0)"
      ],
      "execution_count": null,
      "outputs": []
    },
    {
      "cell_type": "code",
      "metadata": {
        "id": "URRtg5khiAfE"
      },
      "source": [
        "regressor4 = LinearRegression()\r\n",
        "regressor4.fit(X_train,y_train)"
      ],
      "execution_count": null,
      "outputs": []
    },
    {
      "cell_type": "code",
      "metadata": {
        "id": "ls5CuaGeiAjJ"
      },
      "source": [
        "print(regressor4.coef_)\r\n",
        "print(regressor4.intercept_)"
      ],
      "execution_count": null,
      "outputs": []
    },
    {
      "cell_type": "code",
      "metadata": {
        "id": "xjE5ZRlhwtT7"
      },
      "source": [
        "predicted_ltc=regressor4.predict(X4_test)"
      ],
      "execution_count": null,
      "outputs": []
    },
    {
      "cell_type": "code",
      "metadata": {
        "id": "Qjokbt6NwuWS"
      },
      "source": [
        "dframe4=pd.DataFrame(y4_test,predicted_ltc)\r\n",
        "dfr4=pd.DataFrame({'Actual':y4_test,'Predicted':predicted_ltc})"
      ],
      "execution_count": null,
      "outputs": []
    },
    {
      "cell_type": "code",
      "metadata": {
        "id": "DLib9knpxABT"
      },
      "source": [
        "print(regressor4.score(X4_test,y4_test))\r\n",
        "print('Root Mean Squared Error:',math.sqrt(metrics.mean_squared_error(y4_test,predicted_ltc)))"
      ],
      "execution_count": null,
      "outputs": []
    },
    {
      "cell_type": "code",
      "metadata": {
        "id": "nuPNHAgTxCjr"
      },
      "source": [
        "graph=dfr4.head(20)\r\n"
      ],
      "execution_count": null,
      "outputs": []
    },
    {
      "cell_type": "code",
      "metadata": {
        "id": "aCA4AAv3xC0X"
      },
      "source": [
        "plt4=[];\r\n",
        "print(\"Enter open value for the stock prediction\")\r\n",
        "plt4.append(float(input()))\r\n",
        "print(\"Enter High value for the stock prediction\")\r\n",
        "plt4.append(float(input()))\r\n",
        "print(\"Enter Low value for the stock prediction\")\r\n",
        "plt4.append(float(input()))\r\n",
        "print(\"Enter Volumes value for the stock prediction\")\r\n",
        "plt4.append(float(input()))\r\n",
        "print(plt4)"
      ],
      "execution_count": null,
      "outputs": []
    },
    {
      "cell_type": "code",
      "metadata": {
        "id": "aj-BnkSTxDJt"
      },
      "source": [
        "features_ltc=np.array([plt4])\r\n",
        "print(features_ltc)\r\n",
        "target_ltc=regressor.predict(features_ltc)\r\n",
        "print(\"Predicted price\",target_ltc)"
      ],
      "execution_count": null,
      "outputs": []
    }
  ]
}